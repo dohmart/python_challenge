{
 "cells": [
  {
   "cell_type": "code",
   "execution_count": 55,
   "metadata": {
    "scrolled": false
   },
   "outputs": [
    {
     "name": "stdout",
     "output_type": "stream",
     "text": [
      "Election Results\n",
      "----------------\n",
      "Total Votes: 3521001\n",
      "----------------\n",
      "   Khan: 63.0%\n",
      "   Correy: 20.0%\n",
      "   Li: 14.0%\n",
      "   O'Tooley: 3.0%\n",
      "----------------\n",
      "Winner: Khan\n",
      "----------------\n"
     ]
    }
   ],
   "source": [
    "import os\n",
    "import csv\n",
    "\n",
    "election_data = os.path.join(\"resources\", \"election_data.csv\")       # Keep data in a local subdirectory\n",
    "election_results = os.path.join(\"resources\", \"election_results.txt\")\n",
    "CAND_COL = 2\n",
    "\n",
    "vote_sum = {}\n",
    "tmpd = {}\n",
    "\n",
    "with open(election_data, newline=\"\") as csvfile:\n",
    "    ed = csv.reader(csvfile, delimiter=\",\")                                 # Get pointer to csv file\n",
    "    next(ed)                                                                # Skip header\n",
    "    for row in ed:                                                          # Loop to count the votes\n",
    "        cd = row[CAND_COL]                                                  # Get candidate voted for\n",
    "        votectr = int(0 if vote_sum.get(cd) is None else vote_sum.get(cd))  # Get current vote count for this candidate\n",
    "        votectr+=1                                                          # Increment count for this vote\n",
    "        tmpd = {cd : votectr}                                               # Store result in temp dict\n",
    "        vote_sum.update(tmpd)                                               # Update the vote_sum dict\n",
    "\n",
    "total = GetTotal(vote_sum)\n",
    "winner = GetWinner(vote_sum)\n",
    "OutputResults(vote_sum, total, winner)\n",
    "OutputResults(vote_sum, total, winner, election_results)"
   ]
  },
  {
   "cell_type": "code",
   "execution_count": 53,
   "metadata": {},
   "outputs": [],
   "source": [
    "def OutputResults(vote_sum, totalvotes, winner, file_name=None):\n",
    "    import sys\n",
    "    if file_name is None:\n",
    "        fd = sys.stdout\n",
    "    else:\n",
    "        fd = open(file_name, 'w')\n",
    "\n",
    "# write to fd\n",
    "    fd.write(\"Election Results\\n\")\n",
    "    fd.write(\"----------------\\n\")\n",
    "    fd.write(\"Total Votes: \" + str(totalvotes) + \"\\n\")\n",
    "    fd.write(\"----------------\\n\")\n",
    "    for key in vote_sum:\n",
    "        fd.write(\"   \" + key + \": \" + str(round(100*vote_sum[key]/totalvotes, 3)) + \"%\\n\")\n",
    "    fd.write(\"----------------\\n\")\n",
    "    fd.write(\"Winner: \" + winner + \"\\n\")\n",
    "    fd.write(\"----------------\\n\")\n",
    "    if fd != sys.stdout:\n",
    "        fd.close();\n"
   ]
  },
  {
   "cell_type": "code",
   "execution_count": 35,
   "metadata": {},
   "outputs": [],
   "source": [
    "def GetWinner(results_dict):\n",
    "    highvotes=0\n",
    "    winner=\"\"\n",
    "    for key in results_dict:\n",
    "        if results_dict[key] > highvotes:\n",
    "            highvotes = results_dict[key]\n",
    "            winner = key\n",
    "    return winner"
   ]
  },
  {
   "cell_type": "code",
   "execution_count": 34,
   "metadata": {},
   "outputs": [],
   "source": [
    "def GetTotal(results_dict):\n",
    "    totalvotes = 0\n",
    "    for key in results_dict:\n",
    "        totalvotes+= results_dict[key]\n",
    "    return totalvotes\n",
    "\n",
    "        \n",
    "        "
   ]
  },
  {
   "cell_type": "code",
   "execution_count": 23,
   "metadata": {
    "scrolled": true
   },
   "outputs": [
    {
     "name": "stdout",
     "output_type": "stream",
     "text": [
      "{'Khan': 10, 'Correy': 5}\n",
      "10\n",
      "0\n"
     ]
    }
   ],
   "source": [
    "vc = {\"Khan\" : 10, \"Correy\" : 5}\n",
    "print(vc)\n",
    "tc = vc.get(\"Khan\")\n",
    "print(tc)\n",
    "tc = int(0 if vc.get(\"Li\") is None else value)\n",
    "print(int(tc))"
   ]
  }
 ],
 "metadata": {
  "kernelspec": {
   "display_name": "Python 3",
   "language": "python",
   "name": "python3"
  },
  "language_info": {
   "codemirror_mode": {
    "name": "ipython",
    "version": 3
   },
   "file_extension": ".py",
   "mimetype": "text/x-python",
   "name": "python",
   "nbconvert_exporter": "python",
   "pygments_lexer": "ipython3",
   "version": "3.7.0"
  }
 },
 "nbformat": 4,
 "nbformat_minor": 2
}
