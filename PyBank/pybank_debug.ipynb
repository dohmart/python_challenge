{
 "cells": [
  {
   "cell_type": "code",
   "execution_count": 5,
   "metadata": {
    "scrolled": false
   },
   "outputs": [
    {
     "name": "stdout",
     "output_type": "stream",
     "text": [
      "Financial Analysis\n",
      "------------------\n",
      "   Total Months: 85\n",
      "   Total : $38,382,578.00\n",
      "   Average_Change: -$2,315.12\n",
      "   Greatest Increase in Profits: $1,926,159.00\n",
      "   Greatest Decrease in Profits: -$2,196,167.00\n"
     ]
    }
   ],
   "source": [
    "import os\n",
    "import csv\n",
    "from money.money import Money                                    # Use py_money from pypi\n",
    "from money.currency import Currency\n",
    "budget_data = os.path.join(\"..\",\"..\",\"python_challenge_inputfiles\", \"budget_data.csv\")       # Keep data in a remote folder\n",
    "output_data = os.path.join(\"resources\", \"budget_summary.txt\")\n",
    "\n",
    "DATE_COL = 0                                                     # No real constants native to Python (crazy!) and\n",
    "PL_COL = 1                                                       # Word is all upper-case implies an immutable variable\n",
    "                                                                 # Interesting debate on stackoverflow on this, and a lot\n",
    "                                                                 # of work-arounds that I won't use here\n",
    "\n",
    "#\n",
    "# Initialize the output record - it's a dictionary\n",
    "# Probably doesn't really need to be initialized, could be dynamic, \n",
    "# but since we know what we want, might as well build it first\n",
    "#\n",
    "change_dict = {\"Date\" : \"\", \"Value\" : Money(0, Currency.USD)}\n",
    "fin_ana = {\"Total_Months\" : 0,\n",
    "           \"Total_P/L\" : Money(0, Currency.USD),\n",
    "           \"Average_Change\" : Money(0, Currency.USD),\n",
    "           \"Max_Pos_P/L_Change\" : [\"\", Money(0, Currency.USD)],\n",
    "           \"Max_Neg_P/L_Change\" : [\"\", Money(0, Currency.USD)]\n",
    "          }\n",
    "# Initialize various accumulators\n",
    "n=0 \n",
    "sumpl = Money(0, Currency.USD)\n",
    "sumpl_change = Money(0, Currency.USD)\n",
    "prevpl = Money(0, Currency.USD)\n",
    "pl_change = [\"\", Money(0, Currency.USD)]                                # pl_change, max_change, min_change \n",
    "max_change = [\"\", Money(0, Currency.USD)]                               # same list type as row from file\n",
    "min_change = [\"\", Money(0, Currency.USD)]\n",
    "with open(budget_data, newline=\"\") as csvfile:\n",
    "    csv_reader = csv.reader(csvfile, delimiter=\",\")\n",
    "    next(csv_reader)\n",
    "    for row in csv_reader:\n",
    "        n+=1                                                            # Update row count\n",
    "        sumpl+= Money(row[PL_COL], Currency.USD)\n",
    "        if (n>1):                                                       # Do not update P/L change on first month\n",
    "            pl_change[DATE_COL] = row[DATE_COL]\n",
    "            pl_change[PL_COL] = Money(row[PL_COL], Currency.USD) - prevpl   # Calculate change from previous month\n",
    "            max_change = UpdateChange(max_change, pl_change, \"GreaterThan\")\n",
    "            min_change = UpdateChange(min_change, pl_change, \"LessThan\")    #\n",
    "            sumpl_change+= pl_change[PL_COL]                                # Update P/L change sum\n",
    "        prevpl = Money(row[PL_COL], Currency.USD)                           # Save previous\n",
    "fin_ana = PopulateResults(fin_ana, n-1, sumpl, sumpl_change, max_change, min_change)  # Use n-1 for average calc to avoid 1st month\n",
    "OutputResults(fin_ana)\n",
    "OutputResults(fin_ana, output_data)"
   ]
  },
  {
   "cell_type": "code",
   "execution_count": 1,
   "metadata": {},
   "outputs": [],
   "source": [
    "def OutputResults(fin_ana, file_name=None):\n",
    "    import sys\n",
    "    if file_name is None:\n",
    "        fd = sys.stdout\n",
    "    else:\n",
    "        fd = open(file_name, 'w')\n",
    "\n",
    "# write to fd\n",
    "    fd.write(\"Financial Analysis\\n\")\n",
    "    fd.write(\"------------------\\n\")\n",
    "    fd.write(\"   Total Months: \" + str(fin_ana[\"Total_Months\"]) + \"\\n\")\n",
    "    fd.write(\"   Total : \" + str(fin_ana[\"Total_P/L\"].format('en_US')) + \"\\n\")\n",
    "    fd.write(\"   Average_Change: \" + str(fin_ana[\"Average_Change\"].format('en_US')) + \"\\n\")\n",
    "    fd.write(\"   Greatest Increase in Profits: \" + str(fin_ana[\"Max_Pos_P/L_Change\"].format('en_US')) + \"\\n\")\n",
    "    fd.write(\"   Greatest Decrease in Profits: \" + str(fin_ana[\"Max_Neg_P/L_Change\"].format('en_US')) + \"\\n\")\n",
    "    \n",
    "    if fd != sys.stdout:\n",
    "        fd.close();\n",
    "\n"
   ]
  },
  {
   "cell_type": "code",
   "execution_count": 2,
   "metadata": {},
   "outputs": [],
   "source": [
    "def PopulateResults(analysis, count, total, total_pl_change, max_change, min_change):\n",
    "    analysis[\"Total_Months\"] = count\n",
    "    analysis[\"Total_P/L\"] = total\n",
    "    analysis[\"Average_Change\"] = total_pl_change/count\n",
    "    analysis[\"Max_Pos_P/L_Change\"] = max_change[PL_COL]\n",
    "    analysis[\"Max_Neg_P/L_Change\"] = min_change[PL_COL]\n",
    "    return analysis\n",
    "\n",
    "def UpdateChange(saved_change, current_change, comp_type):\n",
    "    if (comp_type == \"LessThan\"):\n",
    "        if (current_change[PL_COL] < saved_change[PL_COL]):\n",
    "            saved_change = list(current_change)\n",
    "    elif (comp_type == \"GreaterThan\"):\n",
    "        if (current_change[PL_COL] > saved_change[PL_COL]):\n",
    "            saved_change = list(current_change)\n",
    "    return saved_change"
   ]
  },
  {
   "cell_type": "code",
   "execution_count": 3,
   "metadata": {
    "scrolled": true
   },
   "outputs": [
    {
     "ename": "NameError",
     "evalue": "name 'Money' is not defined",
     "output_type": "error",
     "traceback": [
      "\u001b[1;31m---------------------------------------------------------------------------\u001b[0m",
      "\u001b[1;31mNameError\u001b[0m                                 Traceback (most recent call last)",
      "\u001b[1;32m<ipython-input-3-7a661bb9d5dc>\u001b[0m in \u001b[0;36m<module>\u001b[1;34m()\u001b[0m\n\u001b[1;32m----> 1\u001b[1;33m \u001b[0mchange_dict\u001b[0m \u001b[1;33m=\u001b[0m \u001b[1;33m[\u001b[0m\u001b[1;34m\"\"\u001b[0m\u001b[1;33m,\u001b[0m \u001b[0mMoney\u001b[0m\u001b[1;33m(\u001b[0m\u001b[1;36m0\u001b[0m\u001b[1;33m,\u001b[0m \u001b[0mCurrency\u001b[0m\u001b[1;33m.\u001b[0m\u001b[0mUSD\u001b[0m\u001b[1;33m)\u001b[0m\u001b[1;33m]\u001b[0m\u001b[1;33m\u001b[0m\u001b[0m\n\u001b[0m\u001b[0;32m      2\u001b[0m fin_ana = {\"Total_Months\" : 0,\n\u001b[0;32m      3\u001b[0m            \u001b[1;34m\"Total_P/L\"\u001b[0m \u001b[1;33m:\u001b[0m \u001b[0mMoney\u001b[0m\u001b[1;33m(\u001b[0m\u001b[1;36m0\u001b[0m\u001b[1;33m,\u001b[0m \u001b[0mCurrency\u001b[0m\u001b[1;33m.\u001b[0m\u001b[0mUSD\u001b[0m\u001b[1;33m)\u001b[0m\u001b[1;33m,\u001b[0m\u001b[1;33m\u001b[0m\u001b[0m\n\u001b[0;32m      4\u001b[0m            \u001b[1;34m\"Average_Change\"\u001b[0m \u001b[1;33m:\u001b[0m \u001b[0mMoney\u001b[0m\u001b[1;33m(\u001b[0m\u001b[1;36m0\u001b[0m\u001b[1;33m,\u001b[0m \u001b[0mCurrency\u001b[0m\u001b[1;33m.\u001b[0m\u001b[0mUSD\u001b[0m\u001b[1;33m)\u001b[0m\u001b[1;33m,\u001b[0m\u001b[1;33m\u001b[0m\u001b[0m\n\u001b[0;32m      5\u001b[0m            \u001b[1;34m\"Max_Pos_P/L_Change\"\u001b[0m \u001b[1;33m:\u001b[0m \u001b[0mchange_dict\u001b[0m\u001b[1;33m,\u001b[0m\u001b[1;33m\u001b[0m\u001b[0m\n",
      "\u001b[1;31mNameError\u001b[0m: name 'Money' is not defined"
     ]
    }
   ],
   "source": [
    "change_dict = [\"\", Money(0, Currency.USD)]\n",
    "fin_ana = {\"Total_Months\" : 0,\n",
    "           \"Total_P/L\" : Money(0, Currency.USD),\n",
    "           \"Average_Change\" : Money(0, Currency.USD),\n",
    "           \"Max_Pos_P/L_Change\" : change_dict,\n",
    "           \"Max_Neg_P/L_Change\" : change_dict\n",
    "          }\n",
    "fin_ana[\"Total_Months\"] = 10\n",
    "fin_ana[\"Total_P/L\"] = Money(995600, Currency.USD)\n",
    "fin_ana[\"Max_Pos_P/L_Change\"][0] = \"01-2018\"\n",
    "fin_ana[\"Max_Pos_P/L_Change\"][1] = Money(225000, Currency.USD)\n",
    "print(fin_ana)"
   ]
  }
 ],
 "metadata": {
  "kernelspec": {
   "display_name": "Python 3",
   "language": "python",
   "name": "python3"
  },
  "language_info": {
   "codemirror_mode": {
    "name": "ipython",
    "version": 3
   },
   "file_extension": ".py",
   "mimetype": "text/x-python",
   "name": "python",
   "nbconvert_exporter": "python",
   "pygments_lexer": "ipython3",
   "version": "3.7.0"
  }
 },
 "nbformat": 4,
 "nbformat_minor": 2
}
